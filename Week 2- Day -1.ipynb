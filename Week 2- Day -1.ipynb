{
 "cells": [
  {
   "cell_type": "markdown",
   "id": "9762e21e",
   "metadata": {},
   "source": [
    "# Linear Regression"
   ]
  },
  {
   "cell_type": "code",
   "execution_count": 2,
   "id": "9355c428",
   "metadata": {},
   "outputs": [],
   "source": [
    "#Import the Libraries"
   ]
  },
  {
   "cell_type": "code",
   "execution_count": 75,
   "id": "229dd43f",
   "metadata": {},
   "outputs": [],
   "source": [
    "import numpy as np\n",
    "import matplotlib.pyplot as plt\n",
    "from sklearn.model_selection import train_test_split\n",
    "from sklearn.linear_model import LinearRegression\n",
    "from sklearn.metrics import mean_squared_error, r2_score\n",
    "import seaborn as sns\n",
    "import statsmodels.api as sm"
   ]
  },
  {
   "cell_type": "code",
   "execution_count": 76,
   "id": "e332573a",
   "metadata": {},
   "outputs": [],
   "source": [
    "# Generate some sample data\n",
    "np.random.seed(42)\n",
    "X = 2 * np.random.rand(100, 1)\n",
    "y = 4 + 3 * X + np.random.randn(100, 1)"
   ]
  },
  {
   "cell_type": "code",
   "execution_count": 77,
   "id": "d08a6545",
   "metadata": {},
   "outputs": [
    {
     "data": {
      "text/plain": [
       "array([[7.49080238e-01, 6.33428778e+00],\n",
       "       [1.90142861e+00, 9.40527849e+00],\n",
       "       [1.46398788e+00, 8.48372443e+00],\n",
       "       [1.19731697e+00, 5.60438199e+00],\n",
       "       [3.12037281e-01, 4.71643995e+00],\n",
       "       [3.11989041e-01, 5.29307969e+00],\n",
       "       [1.16167224e-01, 5.82639572e+00],\n",
       "       [1.73235229e+00, 8.67878666e+00],\n",
       "       [1.20223002e+00, 6.79819647e+00],\n",
       "       [1.41614516e+00, 7.74667842e+00],\n",
       "       [4.11689886e-02, 5.03890908e+00],\n",
       "       [1.93981970e+00, 1.01482102e+01],\n",
       "       [1.66488528e+00, 8.46489564e+00],\n",
       "       [4.24678221e-01, 5.78730210e+00],\n",
       "       [3.63649934e-01, 5.18802735e+00],\n",
       "       [3.66809020e-01, 6.06907205e+00],\n",
       "       [6.08484486e-01, 5.12340036e+00],\n",
       "       [1.04951286e+00, 6.82087644e+00],\n",
       "       [8.63890037e-01, 6.19956196e+00],\n",
       "       [5.82458280e-01, 4.28385989e+00],\n",
       "       [1.22370579e+00, 7.96723765e+00],\n",
       "       [2.78987721e-01, 5.09801844e+00],\n",
       "       [5.84289297e-01, 5.75798135e+00],\n",
       "       [7.32723687e-01, 5.96358393e+00],\n",
       "       [9.12139968e-01, 5.32104916e+00],\n",
       "       [1.57035192e+00, 8.29041045e+00],\n",
       "       [3.99347564e-01, 4.85532818e+00],\n",
       "       [1.02846888e+00, 6.28312936e+00],\n",
       "       [1.18482914e+00, 7.39320170e+00],\n",
       "       [9.29008254e-02, 4.68275333e+00],\n",
       "       [1.21508970e+00, 9.53145501e+00],\n",
       "       [3.41048247e-01, 5.19772255e+00],\n",
       "       [1.30103186e-01, 4.64785995e+00],\n",
       "       [1.89777107e+00, 9.61886731e+00],\n",
       "       [1.93126407e+00, 7.87502098e+00],\n",
       "       [1.61679470e+00, 8.82387021e+00],\n",
       "       [6.09227538e-01, 5.88791282e+00],\n",
       "       [1.95344228e-01, 7.04927480e+00],\n",
       "       [1.36846605e+00, 7.91303719e+00],\n",
       "       [8.80304987e-01, 6.94246230e+00],\n",
       "       [2.44076470e-01, 4.69751764e+00],\n",
       "       [9.90353820e-01, 5.80238342e+00],\n",
       "       [6.87770422e-02, 5.34915394e+00],\n",
       "       [1.81864080e+00, 1.02078554e+01],\n",
       "       [5.17559963e-01, 6.34371184e+00],\n",
       "       [1.32504457e+00, 7.06574625e+00],\n",
       "       [6.23422152e-01, 7.27306077e+00],\n",
       "       [1.04013604e+00, 5.71855706e+00],\n",
       "       [1.09342056e+00, 7.86711877e+00],\n",
       "       [3.69708911e-01, 7.29958236e+00],\n",
       "       [1.93916926e+00, 8.82697144e+00],\n",
       "       [1.55026565e+00, 8.08449921e+00],\n",
       "       [1.87899788e+00, 9.73664501e+00],\n",
       "       [1.78965470e+00, 8.86548845e+00],\n",
       "       [1.19579996e+00, 6.03673644e+00],\n",
       "       [1.84374847e+00, 9.59980838e+00],\n",
       "       [1.76985004e-01, 3.46865130e+00],\n",
       "       [3.91965725e-01, 5.64948961e+00],\n",
       "       [9.04545778e-02, 3.35193950e+00],\n",
       "       [6.50660662e-01, 7.50191639e+00],\n",
       "       [7.77354579e-01, 5.54881045e+00],\n",
       "       [5.42698064e-01, 5.30603267e+00],\n",
       "       [1.65747502e+00, 9.78594227e+00],\n",
       "       [7.13506653e-01, 4.90965564e+00],\n",
       "       [5.61869019e-01, 5.91306699e+00],\n",
       "       [1.08539217e+00, 8.56331925e+00],\n",
       "       [2.81848450e-01, 3.23806212e+00],\n",
       "       [1.60439396e+00, 8.99781574e+00],\n",
       "       [1.49101287e-01, 4.70718666e+00],\n",
       "       [1.97377387e+00, 1.07031445e+01],\n",
       "       [1.54448954e+00, 7.39651790e+00],\n",
       "       [3.97431363e-01, 3.87183748e+00],\n",
       "       [1.10442342e-02, 4.55507427e+00],\n",
       "       [1.63092286e+00, 9.18975324e+00],\n",
       "       [1.41371469e+00, 8.49163691e+00],\n",
       "       [1.45801434e+00, 8.72049122e+00],\n",
       "       [1.54254069e+00, 7.94759736e+00],\n",
       "       [1.48089303e-01, 4.67652161e+00],\n",
       "       [7.16931457e-01, 6.44386684e+00],\n",
       "       [2.31738119e-01, 3.98086294e+00],\n",
       "       [1.72620685e+00, 1.10443951e+01],\n",
       "       [1.24659625e+00, 8.21362168e+00],\n",
       "       [6.61796050e-01, 4.79408465e+00],\n",
       "       [1.27116701e-01, 5.03790371e+00],\n",
       "       [6.21964643e-01, 4.89121226e+00],\n",
       "       [6.50366644e-01, 6.73818454e+00],\n",
       "       [1.45921236e+00, 9.53623265e+00],\n",
       "       [1.27511494e+00, 7.00466251e+00],\n",
       "       [1.77442549e+00, 1.02866526e+01],\n",
       "       [9.44429850e-01, 7.24607048e+00],\n",
       "       [2.39188492e-01, 5.53962564e+00],\n",
       "       [1.42648957e+00, 1.01762617e+01],\n",
       "       [1.52157010e+00, 8.31932218e+00],\n",
       "       [1.12255440e+00, 6.61392702e+00],\n",
       "       [1.54193436e+00, 7.73628865e+00],\n",
       "       [9.87591193e-01, 6.14696329e+00],\n",
       "       [1.04546566e+00, 7.05929527e+00],\n",
       "       [8.55082037e-01, 6.90639808e+00],\n",
       "       [5.08382535e-02, 4.42920556e+00],\n",
       "       [2.15782854e-01, 5.47453181e+00]])"
      ]
     },
     "execution_count": 77,
     "metadata": {},
     "output_type": "execute_result"
    }
   ],
   "source": [
    "np.hstack((X,y))"
   ]
  },
  {
   "cell_type": "code",
   "execution_count": 78,
   "id": "24019ba0",
   "metadata": {},
   "outputs": [],
   "source": [
    "# Split the data into training and testing sets\n",
    "X_train, X_test, y_train, y_test = train_test_split(X, y, test_size=0.2, random_state=42)"
   ]
  },
  {
   "cell_type": "code",
   "execution_count": 80,
   "id": "b2af4efe",
   "metadata": {},
   "outputs": [
    {
     "data": {
      "text/plain": [
       "array([[ 9.59980838],\n",
       "       [10.28665258],\n",
       "       [ 4.85532818],\n",
       "       [ 5.34915394],\n",
       "       [10.70314449],\n",
       "       [ 6.06907205],\n",
       "       [ 4.69751764],\n",
       "       [ 7.05929527],\n",
       "       [ 7.74667842],\n",
       "       [ 4.55507427],\n",
       "       [10.14821022],\n",
       "       [ 5.71855706],\n",
       "       [ 6.73818454],\n",
       "       [ 7.3932017 ],\n",
       "       [ 6.61392702],\n",
       "       [ 5.29307969],\n",
       "       [ 3.23806212],\n",
       "       [ 8.56331925],\n",
       "       [ 8.82387021],\n",
       "       [ 5.12340036],\n",
       "       [ 7.29958236],\n",
       "       [ 7.87502098],\n",
       "       [ 8.67878666],\n",
       "       [ 6.14696329],\n",
       "       [ 6.28312936],\n",
       "       [ 4.28385989],\n",
       "       [ 8.21362168],\n",
       "       [ 8.29041045],\n",
       "       [ 9.78594227],\n",
       "       [ 5.7873021 ],\n",
       "       [ 5.32104916],\n",
       "       [ 5.60438199],\n",
       "       [ 6.82087644],\n",
       "       [ 7.91303719],\n",
       "       [ 6.79819647],\n",
       "       [ 6.44386684],\n",
       "       [ 5.82639572],\n",
       "       [ 5.91306699],\n",
       "       [ 5.88791282],\n",
       "       [ 7.24607048],\n",
       "       [ 3.4686513 ],\n",
       "       [ 5.47453181],\n",
       "       [ 6.03673644],\n",
       "       [10.20785545],\n",
       "       [ 8.82697144],\n",
       "       [ 8.99781574],\n",
       "       [ 7.27306077],\n",
       "       [ 4.70718666],\n",
       "       [ 5.30603267],\n",
       "       [ 6.90639808],\n",
       "       [ 3.98086294],\n",
       "       [ 5.80238342],\n",
       "       [ 3.3519395 ],\n",
       "       [ 7.86711877],\n",
       "       [ 4.42920556],\n",
       "       [ 5.64948961],\n",
       "       [ 8.72049122],\n",
       "       [ 4.64785995],\n",
       "       [ 7.73628865],\n",
       "       [ 7.50191639],\n",
       "       [ 4.90965564],\n",
       "       [ 4.89121226],\n",
       "       [ 7.0492748 ],\n",
       "       [ 4.68275333],\n",
       "       [ 9.40527849],\n",
       "       [ 9.73664501],\n",
       "       [ 5.09801844],\n",
       "       [ 8.48372443],\n",
       "       [ 5.96358393],\n",
       "       [ 7.00466251],\n",
       "       [10.17626171],\n",
       "       [ 8.49163691],\n",
       "       [ 9.53623265],\n",
       "       [ 4.79408465],\n",
       "       [ 7.96723765],\n",
       "       [ 5.54881045],\n",
       "       [ 3.87183748],\n",
       "       [ 5.18802735],\n",
       "       [ 8.31932218],\n",
       "       [ 8.08449921]])"
      ]
     },
     "execution_count": 80,
     "metadata": {},
     "output_type": "execute_result"
    }
   ],
   "source": [
    "y_train"
   ]
  },
  {
   "cell_type": "code",
   "execution_count": 82,
   "id": "3158e3a0",
   "metadata": {},
   "outputs": [
    {
     "data": {
      "text/plain": [
       "LinearRegression()"
      ]
     },
     "execution_count": 82,
     "metadata": {},
     "output_type": "execute_result"
    }
   ],
   "source": [
    "# Create a linear regression model\n",
    "model = LinearRegression()\n",
    "\n",
    "# Train the model\n",
    "model.fit(X_train, y_train)"
   ]
  },
  {
   "cell_type": "code",
   "execution_count": 83,
   "id": "6bbc0bc3",
   "metadata": {},
   "outputs": [
    {
     "name": "stdout",
     "output_type": "stream",
     "text": [
      "Mean Squared Error (MSE): 0.6536995137170021\n",
      "R² Score: 0.8072059636181392\n"
     ]
    }
   ],
   "source": [
    "# Make predictions\n",
    "y_pred = model.predict(X_test)\n",
    "\n",
    "# Evaluate the model\n",
    "mse = mean_squared_error(y_test, y_pred)\n",
    "r2 = r2_score(y_test, y_pred)\n",
    "\n",
    "print(\"Mean Squared Error (MSE):\", mse)\n",
    "print(\"R² Score:\", r2)"
   ]
  },
  {
   "cell_type": "code",
   "execution_count": 85,
   "id": "41acf529",
   "metadata": {},
   "outputs": [
    {
     "data": {
      "text/plain": [
       "array([[ 32.13614989],\n",
       "       [ 60.12938647],\n",
       "       [843.94001056]])"
      ]
     },
     "execution_count": 85,
     "metadata": {},
     "output_type": "execute_result"
    }
   ],
   "source": [
    "model.predict([[10],[20],[300]])"
   ]
  },
  {
   "cell_type": "code",
   "execution_count": 86,
   "id": "234b5a13",
   "metadata": {},
   "outputs": [
    {
     "data": {
      "image/png": "[encoded data removed]",
      "text/plain": [
       "<Figure size 432x288 with 1 Axes>"
      ]
     },
     "metadata": {
      "needs_background": "light"
     },
     "output_type": "display_data"
    }
   ],
   "source": [
    "# Plot the results\n",
    "plt.scatter(X_test, y_test, color='blue', label='Actual')\n",
    "plt.plot(X_test, y_pred, color='red', linewidth=2, label='Predicted')\n",
    "plt.xlabel('X')\n",
    "plt.ylabel('y')\n",
    "plt.title('Linear Regression')\n",
    "plt.legend()\n",
    "plt.show()"
   ]
  },
  {
   "cell_type": "code",
   "execution_count": 87,
   "id": "9c8afc5b",
   "metadata": {},
   "outputs": [
    {
     "data": {
      "image/png": "[encoded data removed]",
      "text/plain": [
       "<Figure size 432x288 with 1 Axes>"
      ]
     },
     "metadata": {
      "needs_background": "light"
     },
     "output_type": "display_data"
    },
    {
     "data": {
      "image/png": "[encoded data removed]",
      "text/plain": [
       "<Figure size 432x288 with 1 Axes>"
      ]
     },
     "metadata": {
      "needs_background": "light"
     },
     "output_type": "display_data"
    },
    {
     "data": {
      "image/png": "[encoded data removed]",
      "text/plain": [
       "<Figure size 432x288 with 1 Axes>"
      ]
     },
     "metadata": {
      "needs_background": "light"
     },
     "output_type": "display_data"
    },
    {
     "data": {
      "image/png": "[encoded data removed]",
      "text/plain": [
       "<Figure size 432x288 with 1 Axes>"
      ]
     },
     "metadata": {
      "needs_background": "light"
     },
     "output_type": "display_data"
    },
    {
     "data": {
      "image/png": "[encoded data removed]",
      "text/plain": [
       "<Figure size 432x288 with 1 Axes>"
      ]
     },
     "metadata": {
      "needs_background": "light"
     },
     "output_type": "display_data"
    }
   ],
   "source": [
    "# Check for assumptions\n",
    "\n",
    "# 1. Linearity\n",
    "plt.scatter(X_train, y_train, color='blue', label='Train Data')\n",
    "plt.plot(X_train, model.predict(X_train), color='red', linewidth=2, label='Linear Fit')\n",
    "plt.xlabel('X')\n",
    "plt.ylabel('y')\n",
    "plt.title('Linearity Check')\n",
    "plt.legend()\n",
    "plt.show()\n",
    "\n",
    "# 2. Independence of residuals\n",
    "residuals = y_test - y_pred\n",
    "plt.plot(residuals)\n",
    "plt.hlines(y=0, xmin=0, xmax=len(residuals), colors='red')\n",
    "plt.xlabel('Observation')\n",
    "plt.ylabel('Residual')\n",
    "plt.title('Independence of Residuals')\n",
    "plt.show()\n",
    "\n",
    "# 3. Homoscedasticity\n",
    "plt.scatter(y_pred, residuals)\n",
    "plt.hlines(y=0, xmin=min(y_pred), xmax=max(y_pred), colors='red')\n",
    "plt.xlabel('Predicted values')\n",
    "plt.ylabel('Residuals')\n",
    "plt.title('Homoscedasticity Check')\n",
    "plt.show()\n",
    "\n",
    "# 4. Normality of residuals\n",
    "sns.histplot(residuals, kde=True)\n",
    "plt.xlabel('Residuals')\n",
    "plt.title('Normality of Residuals')\n",
    "plt.show()\n",
    "\n",
    "# Q-Q plot\n",
    "sm.qqplot(residuals, line ='45')\n",
    "plt.title('Q-Q Plot')\n",
    "plt.show()\n"
   ]
  },
  {
   "cell_type": "markdown",
   "id": "0a906a3f",
   "metadata": {},
   "source": [
    "# Linear Regression on a Sample Dataset"
   ]
  },
  {
   "cell_type": "code",
   "execution_count": 89,
   "id": "f025a444",
   "metadata": {},
   "outputs": [],
   "source": [
    "#Create a Sample Dataset\n",
    "\n",
    "import numpy as np\n",
    "import pandas as pd\n",
    "\n",
    "# Generate a sample dataset\n",
    "np.random.seed(42)\n",
    "n_samples = 100\n",
    "\n",
    "data = {\n",
    "    'Hours_Studied': np.random.rand(n_samples) * 10,  # Hours studied per week (continuous)\n",
    "    'Attendance': np.random.rand(n_samples) * 100,    # Attendance percentage (continuous)\n",
    "    'Assignments_Completed': np.random.randint(1, 10, n_samples),  # Number of assignments completed (continuous)\n",
    "    'Gender': np.random.choice(['Male', 'Female'], n_samples),  # Gender (categorical)\n",
    "    'Exam_Score': np.random.rand(n_samples) * 100     # Exam score out of 100 (continuous)\n",
    "}\n",
    "\n",
    "df = pd.DataFrame(data)\n",
    "\n",
    "# Adding some noise to the exam score to simulate a real-world scenario\n",
    "df['Exam_Score'] += 0.5 * df['Hours_Studied'] + 0.2 * df['Attendance'] + 2 * df['Assignments_Completed'] + (df['Gender'] == 'Female') * 5 + np.random.randn(n_samples) * 10"
   ]
  },
  {
   "cell_type": "code",
   "execution_count": 90,
   "id": "90f1c699",
   "metadata": {},
   "outputs": [
    {
     "data": {
      "text/html": [
       "<div>\n",
       "<style scoped>\n",
       "    .dataframe tbody tr th:only-of-type {\n",
       "        vertical-align: middle;\n",
       "    }\n",
       "\n",
       "    .dataframe tbody tr th {\n",
       "        vertical-align: top;\n",
       "    }\n",
       "\n",
       "    .dataframe thead th {\n",
       "        text-align: right;\n",
       "    }\n",
       "</style>\n",
       "<table border=\"1\" class=\"dataframe\">\n",
       "  <thead>\n",
       "    <tr style=\"text-align: right;\">\n",
       "      <th></th>\n",
       "      <th>Hours_Studied</th>\n",
       "      <th>Attendance</th>\n",
       "      <th>Assignments_Completed</th>\n",
       "      <th>Gender</th>\n",
       "      <th>Exam_Score</th>\n",
       "    </tr>\n",
       "  </thead>\n",
       "  <tbody>\n",
       "    <tr>\n",
       "      <th>0</th>\n",
       "      <td>3.745401</td>\n",
       "      <td>3.142919</td>\n",
       "      <td>8</td>\n",
       "      <td>Female</td>\n",
       "      <td>130.314357</td>\n",
       "    </tr>\n",
       "    <tr>\n",
       "      <th>1</th>\n",
       "      <td>9.507143</td>\n",
       "      <td>63.641041</td>\n",
       "      <td>4</td>\n",
       "      <td>Male</td>\n",
       "      <td>40.677775</td>\n",
       "    </tr>\n",
       "    <tr>\n",
       "      <th>2</th>\n",
       "      <td>7.319939</td>\n",
       "      <td>31.435598</td>\n",
       "      <td>1</td>\n",
       "      <td>Female</td>\n",
       "      <td>19.106705</td>\n",
       "    </tr>\n",
       "    <tr>\n",
       "      <th>3</th>\n",
       "      <td>5.986585</td>\n",
       "      <td>50.857069</td>\n",
       "      <td>8</td>\n",
       "      <td>Male</td>\n",
       "      <td>93.739874</td>\n",
       "    </tr>\n",
       "    <tr>\n",
       "      <th>4</th>\n",
       "      <td>1.560186</td>\n",
       "      <td>90.756647</td>\n",
       "      <td>4</td>\n",
       "      <td>Female</td>\n",
       "      <td>117.077789</td>\n",
       "    </tr>\n",
       "    <tr>\n",
       "      <th>...</th>\n",
       "      <td>...</td>\n",
       "      <td>...</td>\n",
       "      <td>...</td>\n",
       "      <td>...</td>\n",
       "      <td>...</td>\n",
       "    </tr>\n",
       "    <tr>\n",
       "      <th>95</th>\n",
       "      <td>4.937956</td>\n",
       "      <td>34.920957</td>\n",
       "      <td>2</td>\n",
       "      <td>Male</td>\n",
       "      <td>90.598704</td>\n",
       "    </tr>\n",
       "    <tr>\n",
       "      <th>96</th>\n",
       "      <td>5.227328</td>\n",
       "      <td>72.595568</td>\n",
       "      <td>7</td>\n",
       "      <td>Male</td>\n",
       "      <td>123.757070</td>\n",
       "    </tr>\n",
       "    <tr>\n",
       "      <th>97</th>\n",
       "      <td>4.275410</td>\n",
       "      <td>89.711026</td>\n",
       "      <td>6</td>\n",
       "      <td>Male</td>\n",
       "      <td>128.056137</td>\n",
       "    </tr>\n",
       "    <tr>\n",
       "      <th>98</th>\n",
       "      <td>0.254191</td>\n",
       "      <td>88.708642</td>\n",
       "      <td>3</td>\n",
       "      <td>Female</td>\n",
       "      <td>73.509107</td>\n",
       "    </tr>\n",
       "    <tr>\n",
       "      <th>99</th>\n",
       "      <td>1.078914</td>\n",
       "      <td>77.987555</td>\n",
       "      <td>9</td>\n",
       "      <td>Female</td>\n",
       "      <td>61.890337</td>\n",
       "    </tr>\n",
       "  </tbody>\n",
       "</table>\n",
       "<p>100 rows × 5 columns</p>\n",
       "</div>"
      ],
      "text/plain": [
       "    Hours_Studied  Attendance  Assignments_Completed  Gender  Exam_Score\n",
       "0        3.745401    3.142919                      8  Female  130.314357\n",
       "1        9.507143   63.641041                      4    Male   40.677775\n",
       "2        7.319939   31.435598                      1  Female   19.106705\n",
       "3        5.986585   50.857069                      8    Male   93.739874\n",
       "4        1.560186   90.756647                      4  Female  117.077789\n",
       "..            ...         ...                    ...     ...         ...\n",
       "95       4.937956   34.920957                      2    Male   90.598704\n",
       "96       5.227328   72.595568                      7    Male  123.757070\n",
       "97       4.275410   89.711026                      6    Male  128.056137\n",
       "98       0.254191   88.708642                      3  Female   73.509107\n",
       "99       1.078914   77.987555                      9  Female   61.890337\n",
       "\n",
       "[100 rows x 5 columns]"
      ]
     },
     "execution_count": 90,
     "metadata": {},
     "output_type": "execute_result"
    }
   ],
   "source": [
    "df"
   ]
  },
  {
   "cell_type": "code",
   "execution_count": 91,
   "id": "848d0c84",
   "metadata": {},
   "outputs": [],
   "source": [
    "#Preprocess the Data (Encode Categorical Variables)\n",
    "\n",
    "# One-hot encode the categorical variables\n",
    "df_encoded = pd.get_dummies(df, drop_first=True)"
   ]
  },
  {
   "cell_type": "code",
   "execution_count": 92,
   "id": "c9553e1d",
   "metadata": {},
   "outputs": [
    {
     "name": "stdout",
     "output_type": "stream",
     "text": [
      "                            OLS Regression Results                            \n",
      "==============================================================================\n",
      "Dep. Variable:             Exam_Score   R-squared:                       0.172\n",
      "Model:                            OLS   Adj. R-squared:                  0.128\n",
      "Method:                 Least Squares   F-statistic:                     3.888\n",
      "Date:                Sat, 08 Jun 2024   Prob (F-statistic):            0.00635\n",
      "Time:                        19:16:05   Log-Likelihood:                -389.47\n",
      "No. Observations:                  80   AIC:                             788.9\n",
      "Df Residuals:                      75   BIC:                             800.8\n",
      "Df Model:                           4                                         \n",
      "Covariance Type:            nonrobust                                         \n",
      "=========================================================================================\n",
      "                            coef    std err          t      P>|t|      [0.025      0.975]\n",
      "-----------------------------------------------------------------------------------------\n",
      "const                    49.8475     12.389      4.023      0.000      25.167      74.528\n",
      "Hours_Studied             0.0575      1.261      0.046      0.964      -2.454       2.569\n",
      "Attendance                0.3669      0.127      2.894      0.005       0.114       0.619\n",
      "Assignments_Completed     2.6649      1.356      1.966      0.053      -0.036       5.366\n",
      "Gender_Male              -9.2965      7.446     -1.249      0.216     -24.130       5.537\n",
      "==============================================================================\n",
      "Omnibus:                        5.832   Durbin-Watson:                   2.029\n",
      "Prob(Omnibus):                  0.054   Jarque-Bera (JB):                2.507\n",
      "Skew:                          -0.021   Prob(JB):                        0.286\n",
      "Kurtosis:                       2.134   Cond. No.                         208.\n",
      "==============================================================================\n",
      "\n",
      "Notes:\n",
      "[1] Standard Errors assume that the covariance matrix of the errors is correctly specified.\n"
     ]
    }
   ],
   "source": [
    "#Fit the Linear Regression Model\n",
    "\n",
    "from sklearn.model_selection import train_test_split\n",
    "import statsmodels.api as sm\n",
    "\n",
    "# Split the data into features and target variable\n",
    "X = df_encoded.drop('Exam_Score', axis=1)\n",
    "y = df_encoded['Exam_Score']\n",
    "\n",
    "# Split the data into training and testing sets\n",
    "X_train, X_test, y_train, y_test = train_test_split(X, y, test_size=0.2, random_state=42)\n",
    "\n",
    "# Fit the linear regression model using statsmodels to get p-values\n",
    "X_train_const = sm.add_constant(X_train)  # Add intercept term\n",
    "model = sm.OLS(y_train, X_train_const).fit()\n",
    "\n",
    "# Print the summary of the model\n",
    "print(model.summary())\n"
   ]
  },
  {
   "cell_type": "code",
   "execution_count": 93,
   "id": "7876d89e",
   "metadata": {},
   "outputs": [
    {
     "name": "stdout",
     "output_type": "stream",
     "text": [
      "P-values: const                    0.000136\n",
      "Hours_Studied            0.963732\n",
      "Attendance               0.004979\n",
      "Assignments_Completed    0.053040\n",
      "Gender_Male              0.215730\n",
      "dtype: float64\n",
      "Significant features: Index(['const', 'Attendance'], dtype='object')\n",
      "                            OLS Regression Results                            \n",
      "==============================================================================\n",
      "Dep. Variable:             Exam_Score   R-squared:                       0.101\n",
      "Model:                            OLS   Adj. R-squared:                  0.090\n",
      "Method:                 Least Squares   F-statistic:                     8.767\n",
      "Date:                Sat, 08 Jun 2024   Prob (F-statistic):            0.00406\n",
      "Time:                        19:17:48   Log-Likelihood:                -392.74\n",
      "No. Observations:                  80   AIC:                             789.5\n",
      "Df Residuals:                      78   BIC:                             794.2\n",
      "Df Model:                           1                                         \n",
      "Covariance Type:            nonrobust                                         \n",
      "==============================================================================\n",
      "                 coef    std err          t      P>|t|      [0.025      0.975]\n",
      "------------------------------------------------------------------------------\n",
      "const         58.1853      7.497      7.761      0.000      43.259      73.111\n",
      "Attendance     0.3822      0.129      2.961      0.004       0.125       0.639\n",
      "==============================================================================\n",
      "Omnibus:                        4.164   Durbin-Watson:                   2.089\n",
      "Prob(Omnibus):                  0.125   Jarque-Bera (JB):                2.104\n",
      "Skew:                          -0.042   Prob(JB):                        0.349\n",
      "Kurtosis:                       2.210   Cond. No.                         117.\n",
      "==============================================================================\n",
      "\n",
      "Notes:\n",
      "[1] Standard Errors assume that the covariance matrix of the errors is correctly specified.\n"
     ]
    }
   ],
   "source": [
    "#Perform Hypothesis Testing and Select Significant Features\n",
    "\n",
    "# Extract p-values for each feature\n",
    "p_values = model.pvalues\n",
    "print('P-values:', p_values)\n",
    "\n",
    "# Select features with p-values less than 0.05\n",
    "significant_features = p_values[p_values < 0.05].index\n",
    "print('Significant features:', significant_features)\n",
    "\n",
    "# Create a new model with only the significant features\n",
    "X_train_significant = X_train_const[significant_features]\n",
    "model_significant = sm.OLS(y_train, X_train_significant).fit()\n",
    "print(model_significant.summary())\n"
   ]
  },
  {
   "cell_type": "code",
   "execution_count": 94,
   "id": "6c9ff271",
   "metadata": {},
   "outputs": [
    {
     "name": "stdout",
     "output_type": "stream",
     "text": [
      "Mean Squared Error (MSE): 1113.9125492218664\n",
      "R² Score: -0.060156529672632075\n"
     ]
    },
    {
     "data": {
      "image/png": "[encoded data removed]",
      "text/plain": [
       "<Figure size 432x288 with 1 Axes>"
      ]
     },
     "metadata": {
      "needs_background": "light"
     },
     "output_type": "display_data"
    }
   ],
   "source": [
    "# Evaluate the Model\n",
    "from sklearn.metrics import mean_squared_error, r2_score\n",
    "import matplotlib.pyplot as plt\n",
    "\n",
    "# Evaluate the new model on test data\n",
    "X_test_const = sm.add_constant(X_test)\n",
    "X_test_significant = X_test_const[significant_features]\n",
    "y_pred = model_significant.predict(X_test_significant)\n",
    "\n",
    "# Calculate and print the mean squared error and R² score\n",
    "mse = mean_squared_error(y_test, y_pred)\n",
    "r2 = r2_score(y_test, y_pred)\n",
    "print(\"Mean Squared Error (MSE):\", mse)\n",
    "print(\"R² Score:\", r2)\n",
    "\n",
    "# Visualize the results\n",
    "plt.scatter(y_test, y_pred)\n",
    "plt.xlabel('Actual Exam Scores')\n",
    "plt.ylabel('Predicted Exam Scores')\n",
    "plt.title('Actual vs Predicted Exam Scores')\n",
    "plt.plot([min(y_test), max(y_test)], [min(y_test), max(y_test)], color='red')\n",
    "plt.show()\n"
   ]
  },
  {
   "cell_type": "code",
   "execution_count": 95,
   "id": "45077231",
   "metadata": {},
   "outputs": [
    {
     "data": {
      "image/png": "[encoded data removed]",
      "text/plain": [
       "<Figure size 432x288 with 1 Axes>"
      ]
     },
     "metadata": {
      "needs_background": "light"
     },
     "output_type": "display_data"
    },
    {
     "name": "stdout",
     "output_type": "stream",
     "text": [
      "Durbin-Watson statistic: 1.1174501620010615\n",
      "Breusch-Pagan test p-value: 0.8959871655127252\n",
      "Shapiro-Wilk test p-value: 0.9522127509117126\n"
     ]
    },
    {
     "data": {
      "image/png": "[encoded data removed]",
      "text/plain": [
       "<Figure size 432x288 with 1 Axes>"
      ]
     },
     "metadata": {
      "needs_background": "light"
     },
     "output_type": "display_data"
    },
    {
     "data": {
      "image/png": "[encoded data removed]",
      "text/plain": [
       "<Figure size 432x288 with 1 Axes>"
      ]
     },
     "metadata": {
      "needs_background": "light"
     },
     "output_type": "display_data"
    }
   ],
   "source": [
    "# Test the Assumptions of Linear Regression\n",
    "from statsmodels.stats.stattools import durbin_watson\n",
    "from statsmodels.stats.diagnostic import het_breuschpagan\n",
    "from scipy.stats import shapiro\n",
    "import seaborn as sns\n",
    "\n",
    "# Residuals\n",
    "residuals = y_test - y_pred\n",
    "\n",
    "# 1. Linearity\n",
    "plt.scatter(y_pred, residuals)\n",
    "plt.xlabel('Predicted Exam Scores')\n",
    "plt.ylabel('Residuals')\n",
    "plt.title('Linearity Check')\n",
    "plt.axhline(y=0, color='red', linestyle='--')\n",
    "plt.show()\n",
    "\n",
    "# 2. Independence of residuals - Durbin-Watson test\n",
    "dw_stat = durbin_watson(residuals)\n",
    "print('Durbin-Watson statistic:', dw_stat)\n",
    "\n",
    "# 3. Homoscedasticity - Breusch-Pagan test\n",
    "_, pval, __, f_pval = het_breuschpagan(residuals, X_test_significant)\n",
    "print('Breusch-Pagan test p-value:', pval)\n",
    "\n",
    "# 4. Normality of residuals - Shapiro-Wilk test\n",
    "shapiro_stat, shapiro_pval = shapiro(residuals)\n",
    "print('Shapiro-Wilk test p-value:', shapiro_pval)\n",
    "\n",
    "# Histogram and Q-Q plot\n",
    "sns.histplot(residuals, kde=True)\n",
    "plt.xlabel('Residuals')\n",
    "plt.title('Normality of Residuals')\n",
    "plt.show()\n",
    "\n",
    "sm.qqplot(residuals, line='45')\n",
    "plt.title('Q-Q Plot')\n",
    "plt.show()\n"
   ]
  },
  {
   "cell_type": "markdown",
   "id": "c29b5b78",
   "metadata": {},
   "source": [
    "# Logistic Regression"
   ]
  },
  {
   "cell_type": "code",
   "execution_count": 103,
   "id": "12d9f724",
   "metadata": {},
   "outputs": [
    {
     "name": "stdout",
     "output_type": "stream",
     "text": [
      "   Hours_Studied  Attendance  Assignments_Completed  Gender  Pass\n",
      "0       3.745401    3.142919                      8  Female     0\n",
      "1       9.507143   63.641041                      4    Male     1\n",
      "2       7.319939   31.435598                      1  Female     0\n",
      "3       5.986585   50.857069                      8    Male     1\n",
      "4       1.560186   90.756647                      4  Female     1\n"
     ]
    }
   ],
   "source": [
    "#Create a Sample Dataset\n",
    "import numpy as np\n",
    "import pandas as pd\n",
    "\n",
    "# Generate a sample dataset\n",
    "np.random.seed(42)\n",
    "n_samples = 100\n",
    "\n",
    "data = {\n",
    "    'Hours_Studied': np.random.rand(n_samples) * 10,  # Hours studied per week (continuous)\n",
    "    'Attendance': np.random.rand(n_samples) * 100,    # Attendance percentage (continuous)\n",
    "    'Assignments_Completed': np.random.randint(1, 10, n_samples),  # Number of assignments completed (continuous)\n",
    "    'Gender': np.random.choice(['Male', 'Female'], n_samples),  # Gender (categorical)\n",
    "}\n",
    "\n",
    "# Convert to DataFrame\n",
    "df = pd.DataFrame(data)\n",
    "\n",
    "# Create a binary target variable 'Pass' based on a combination of features\n",
    "df['Pass'] = (df['Hours_Studied'] + 0.2 * df['Attendance'] + 2 * df['Assignments_Completed'] + (df['Gender'] == 'Female') * 5 + np.random.randn(n_samples) * 2 > 30).astype(int)\n",
    "\n",
    "print(df.head())\n"
   ]
  },
  {
   "cell_type": "code",
   "execution_count": 97,
   "id": "5710e789",
   "metadata": {},
   "outputs": [],
   "source": [
    "#Preprocess the Data\n",
    "\n",
    "# One-hot encode the categorical variables\n",
    "df_encoded = pd.get_dummies(df, drop_first=True)\n",
    "\n",
    "# Split the data into features and target variable\n",
    "X = df_encoded.drop('Pass', axis=1)\n",
    "y = df_encoded['Pass']\n"
   ]
  },
  {
   "cell_type": "code",
   "execution_count": 106,
   "id": "cc98ab5e",
   "metadata": {},
   "outputs": [],
   "source": [
    "#Fit the Logistic Regression Model\n",
    "\n",
    "from sklearn.model_selection import train_test_split\n",
    "from sklearn.linear_model import LogisticRegression\n",
    "from sklearn.metrics import classification_report, confusion_matrix, roc_curve, auc\n",
    "import matplotlib.pyplot as plt\n",
    "\n",
    "# Split the data into training and testing sets\n",
    "X_train, X_test, y_train, y_test = train_test_split(X, y, test_size=0.2, random_state=42, stratify=y)\n",
    "\n",
    "# Fit the logistic regression model\n",
    "model = LogisticRegression()\n",
    "model.fit(X_train, y_train)\n",
    "\n",
    "# Make predictions\n",
    "y_pred = model.predict(X_test)\n",
    "y_pred_prob = model.predict_proba(X_test)[:, 1]\n"
   ]
  },
  {
   "cell_type": "code",
   "execution_count": 107,
   "id": "8ebcc951",
   "metadata": {},
   "outputs": [
    {
     "data": {
      "text/plain": [
       "0    12\n",
       "1     8\n",
       "Name: Pass, dtype: int64"
      ]
     },
     "execution_count": 107,
     "metadata": {},
     "output_type": "execute_result"
    }
   ],
   "source": [
    "y_test.value_counts()"
   ]
  },
  {
   "cell_type": "code",
   "execution_count": 108,
   "id": "9f9cd902",
   "metadata": {},
   "outputs": [
    {
     "name": "stdout",
     "output_type": "stream",
     "text": [
      "Confusion Matrix:\n",
      "[[12  0]\n",
      " [ 3  5]]\n",
      "\n",
      "Classification Report:\n",
      "              precision    recall  f1-score   support\n",
      "\n",
      "           0       0.80      1.00      0.89        12\n",
      "           1       1.00      0.62      0.77         8\n",
      "\n",
      "    accuracy                           0.85        20\n",
      "   macro avg       0.90      0.81      0.83        20\n",
      "weighted avg       0.88      0.85      0.84        20\n",
      "\n"
     ]
    },
    {
     "data": {
      "image/png": "[encoded data removed]",
      "text/plain": [
       "<Figure size 432x288 with 1 Axes>"
      ]
     },
     "metadata": {
      "needs_background": "light"
     },
     "output_type": "display_data"
    }
   ],
   "source": [
    "#Evaluate the Model\n",
    "\n",
    "# Print the confusion matrix\n",
    "conf_matrix = confusion_matrix(y_test, y_pred)\n",
    "print(\"Confusion Matrix:\")\n",
    "print(conf_matrix)\n",
    "\n",
    "# Print classification report\n",
    "class_report = classification_report(y_test, y_pred)\n",
    "print(\"\\nClassification Report:\")\n",
    "print(class_report)\n",
    "\n",
    "# Plot ROC curve\n",
    "fpr, tpr, thresholds = roc_curve(y_test, y_pred_prob)\n",
    "roc_auc = auc(fpr, tpr)\n",
    "\n",
    "plt.figure()\n",
    "plt.plot(fpr, tpr, color='blue', lw=2, label='ROC curve (area = %0.2f)' % roc_auc)\n",
    "plt.plot([0, 1], [0, 1], color='gray', lw=2, linestyle='--')\n",
    "plt.xlim([0.0, 1.0])\n",
    "plt.ylim([0.0, 1.05])\n",
    "plt.xlabel('False Positive Rate')\n",
    "plt.ylabel('True Positive Rate')\n",
    "plt.title('Receiver Operating Characteristic (ROC) Curve')\n",
    "plt.legend(loc=\"lower right\")\n",
    "plt.show()\n"
   ]
  },
  {
   "cell_type": "code",
   "execution_count": 110,
   "id": "1e2ba3f1",
   "metadata": {},
   "outputs": [
    {
     "name": "stdout",
     "output_type": "stream",
     "text": [
      "Optimization terminated successfully.\n",
      "         Current function value: 0.104292\n",
      "         Iterations 11\n",
      "                           Logit Regression Results                           \n",
      "==============================================================================\n",
      "Dep. Variable:                   Pass   No. Observations:                   80\n",
      "Model:                          Logit   Df Residuals:                       75\n",
      "Method:                           MLE   Df Model:                            4\n",
      "Date:                Sat, 08 Jun 2024   Pseudo R-squ.:                  0.8424\n",
      "Time:                        19:37:57   Log-Likelihood:                -8.3434\n",
      "converged:                       True   LL-Null:                       -52.925\n",
      "Covariance Type:            nonrobust   LLR p-value:                 1.982e-18\n",
      "=========================================================================================\n",
      "                            coef    std err          z      P>|z|      [0.025      0.975]\n",
      "-----------------------------------------------------------------------------------------\n",
      "const                   -24.7744      9.390     -2.638      0.008     -43.179      -6.370\n",
      "Hours_Studied             1.0366      0.405      2.562      0.010       0.244       1.830\n",
      "Attendance                0.2035      0.078      2.612      0.009       0.051       0.356\n",
      "Assignments_Completed     2.1034      0.921      2.284      0.022       0.299       3.908\n",
      "Gender_Male              -5.6732      2.613     -2.171      0.030     -10.795      -0.551\n",
      "=========================================================================================\n",
      "\n",
      "Possibly complete quasi-separation: A fraction 0.40 of observations can be\n",
      "perfectly predicted. This might indicate that there is complete\n",
      "quasi-separation. In this case some parameters will not be identified.\n",
      "Wald Test Results:\n",
      "                           chi2    P>chi2  df constraint\n",
      "const                  6.960908  0.008331              1\n",
      "Hours_Studied          6.563416  0.010410              1\n",
      "Attendance             6.821871  0.009005              1\n",
      "Assignments_Completed  5.218767  0.022344              1\n",
      "Gender_Male            4.713025  0.029935              1\n",
      "Accuracy: 0.95\n"
     ]
    }
   ],
   "source": [
    "from sklearn.metrics import accuracy_score\n",
    "# Fit logistic regression model\n",
    "logit_model = sm.Logit(y_train, sm.add_constant(X_train))\n",
    "result = logit_model.fit()\n",
    "\n",
    "# Print the summary of the model\n",
    "print(result.summary())\n",
    "\n",
    "# Perform the Wald test\n",
    "wald_test = result.wald_test_terms()\n",
    "print(\"Wald Test Results:\")\n",
    "print(wald_test)\n",
    "\n",
    "# Make predictions\n",
    "y_pred = result.predict(sm.add_constant(X_test))\n",
    "y_pred_binary = (y_pred >= 0.5).astype(int)\n",
    "\n",
    "# Evaluate the model\n",
    "accuracy = accuracy_score(y_test, y_pred_binary)\n",
    "print(\"Accuracy:\", accuracy)"
   ]
  },
  {
   "cell_type": "markdown",
   "id": "34efa002",
   "metadata": {},
   "source": [
    "# Polynomial Regression"
   ]
  },
  {
   "cell_type": "code",
   "execution_count": 111,
   "id": "950e5679",
   "metadata": {},
   "outputs": [],
   "source": [
    "import numpy as np\n",
    "import pandas as pd\n",
    "import matplotlib.pyplot as plt\n",
    "from sklearn.model_selection import train_test_split\n",
    "from sklearn.preprocessing import PolynomialFeatures\n",
    "from sklearn.linear_model import LinearRegression\n",
    "from sklearn.metrics import mean_squared_error, r2_score\n",
    "\n",
    "# Generate a sample dataset\n",
    "np.random.seed(42)\n",
    "n_samples = 100"
   ]
  },
  {
   "cell_type": "code",
   "execution_count": 113,
   "id": "84448dfb",
   "metadata": {},
   "outputs": [],
   "source": [
    "# Sample data for students\n",
    "data = {\n",
    "    'Hours_Studied': np.random.rand(n_samples) * 10,  # Hours studied per week\n",
    "    'Attendance': np.random.rand(n_samples) * 100,    # Attendance percentage\n",
    "    'Assignments_Completed': np.random.randint(1, 10, n_samples),  # Number of assignments completed\n",
    "    'Exam_Score': np.random.rand(n_samples) * 100     # Exam score out of 100\n",
    "}\n",
    "\n",
    "# Convert to DataFrame\n",
    "df = pd.DataFrame(data)"
   ]
  },
  {
   "cell_type": "code",
   "execution_count": 114,
   "id": "bb2e26a1",
   "metadata": {},
   "outputs": [],
   "source": [
    "# Adding some noise to the exam score to simulate a real-world scenario\n",
    "df['Exam_Score'] += 0.5 * df['Hours_Studied'] + 0.2 * df['Attendance'] + 2 * df['Assignments_Completed'] + np.random.randn(n_samples) * 10\n",
    "\n",
    "# Split the data into features and target variable\n",
    "X = df[['Hours_Studied', 'Attendance', 'Assignments_Completed']]\n",
    "y = df['Exam_Score']"
   ]
  },
  {
   "cell_type": "code",
   "execution_count": 115,
   "id": "3cb89a74",
   "metadata": {},
   "outputs": [],
   "source": [
    "# Split the data into training and testing sets\n",
    "X_train, X_test, y_train, y_test = train_test_split(X, y, test_size=0.2, random_state=42)"
   ]
  },
  {
   "cell_type": "code",
   "execution_count": 117,
   "id": "0beb1120",
   "metadata": {},
   "outputs": [
    {
     "data": {
      "text/html": [
       "<div>\n",
       "<style scoped>\n",
       "    .dataframe tbody tr th:only-of-type {\n",
       "        vertical-align: middle;\n",
       "    }\n",
       "\n",
       "    .dataframe tbody tr th {\n",
       "        vertical-align: top;\n",
       "    }\n",
       "\n",
       "    .dataframe thead th {\n",
       "        text-align: right;\n",
       "    }\n",
       "</style>\n",
       "<table border=\"1\" class=\"dataframe\">\n",
       "  <thead>\n",
       "    <tr style=\"text-align: right;\">\n",
       "      <th></th>\n",
       "      <th>Hours_Studied</th>\n",
       "      <th>Attendance</th>\n",
       "      <th>Assignments_Completed</th>\n",
       "    </tr>\n",
       "  </thead>\n",
       "  <tbody>\n",
       "    <tr>\n",
       "      <th>55</th>\n",
       "      <td>5.813054</td>\n",
       "      <td>20.722765</td>\n",
       "      <td>7</td>\n",
       "    </tr>\n",
       "    <tr>\n",
       "      <th>88</th>\n",
       "      <td>9.246433</td>\n",
       "      <td>69.764187</td>\n",
       "      <td>6</td>\n",
       "    </tr>\n",
       "    <tr>\n",
       "      <th>26</th>\n",
       "      <td>4.825209</td>\n",
       "      <td>87.666149</td>\n",
       "      <td>9</td>\n",
       "    </tr>\n",
       "    <tr>\n",
       "      <th>42</th>\n",
       "      <td>7.058315</td>\n",
       "      <td>7.535906</td>\n",
       "      <td>2</td>\n",
       "    </tr>\n",
       "    <tr>\n",
       "      <th>69</th>\n",
       "      <td>2.536822</td>\n",
       "      <td>58.995590</td>\n",
       "      <td>6</td>\n",
       "    </tr>\n",
       "    <tr>\n",
       "      <th>...</th>\n",
       "      <td>...</td>\n",
       "      <td>...</td>\n",
       "      <td>...</td>\n",
       "    </tr>\n",
       "    <tr>\n",
       "      <th>60</th>\n",
       "      <td>5.918887</td>\n",
       "      <td>2.218474</td>\n",
       "      <td>9</td>\n",
       "    </tr>\n",
       "    <tr>\n",
       "      <th>71</th>\n",
       "      <td>5.714730</td>\n",
       "      <td>42.053578</td>\n",
       "      <td>8</td>\n",
       "    </tr>\n",
       "    <tr>\n",
       "      <th>14</th>\n",
       "      <td>3.777289</td>\n",
       "      <td>3.231595</td>\n",
       "      <td>3</td>\n",
       "    </tr>\n",
       "    <tr>\n",
       "      <th>92</th>\n",
       "      <td>0.754345</td>\n",
       "      <td>76.891774</td>\n",
       "      <td>8</td>\n",
       "    </tr>\n",
       "    <tr>\n",
       "      <th>51</th>\n",
       "      <td>8.918969</td>\n",
       "      <td>24.108483</td>\n",
       "      <td>3</td>\n",
       "    </tr>\n",
       "  </tbody>\n",
       "</table>\n",
       "<p>80 rows × 3 columns</p>\n",
       "</div>"
      ],
      "text/plain": [
       "    Hours_Studied  Attendance  Assignments_Completed\n",
       "55       5.813054   20.722765                      7\n",
       "88       9.246433   69.764187                      6\n",
       "26       4.825209   87.666149                      9\n",
       "42       7.058315    7.535906                      2\n",
       "69       2.536822   58.995590                      6\n",
       "..            ...         ...                    ...\n",
       "60       5.918887    2.218474                      9\n",
       "71       5.714730   42.053578                      8\n",
       "14       3.777289    3.231595                      3\n",
       "92       0.754345   76.891774                      8\n",
       "51       8.918969   24.108483                      3\n",
       "\n",
       "[80 rows x 3 columns]"
      ]
     },
     "execution_count": 117,
     "metadata": {},
     "output_type": "execute_result"
    }
   ],
   "source": [
    "X_train"
   ]
  },
  {
   "cell_type": "code",
   "execution_count": 124,
   "id": "187918bb",
   "metadata": {},
   "outputs": [],
   "source": [
    "# Polynomial features transformation\n",
    "poly = PolynomialFeatures(degree=2)  # Degree of the polynomial features\n",
    "X_train_poly = poly.fit_transform(X_train)\n",
    "X_test_poly = poly.transform(X_test)"
   ]
  },
  {
   "cell_type": "code",
   "execution_count": 125,
   "id": "b9aa9829",
   "metadata": {},
   "outputs": [
    {
     "data": {
      "text/plain": [
       "LinearRegression()"
      ]
     },
     "execution_count": 125,
     "metadata": {},
     "output_type": "execute_result"
    }
   ],
   "source": [
    "# Fit the polynomial regression model\n",
    "model = LinearRegression()\n",
    "model.fit(X_train_poly, y_train)"
   ]
  },
  {
   "cell_type": "code",
   "execution_count": 126,
   "id": "7e5ab806",
   "metadata": {},
   "outputs": [
    {
     "name": "stdout",
     "output_type": "stream",
     "text": [
      "Training MSE: 798.7820549092294\n",
      "Testing MSE: 1494.7021087383787\n",
      "Training R² Score: 0.07755253284712404\n",
      "Testing R² Score: -0.22744785160345282\n"
     ]
    },
    {
     "data": {
      "image/png": "[encoded data removed]",
      "text/plain": [
       "<Figure size 432x288 with 1 Axes>"
      ]
     },
     "metadata": {
      "needs_background": "light"
     },
     "output_type": "display_data"
    }
   ],
   "source": [
    "# Make predictions\n",
    "y_pred_train = model.predict(X_train_poly)\n",
    "y_pred_test = model.predict(X_test_poly)\n",
    "\n",
    "# Evaluate the model\n",
    "mse_train = mean_squared_error(y_train, y_pred_train)\n",
    "mse_test = mean_squared_error(y_test, y_pred_test)\n",
    "r2_train = r2_score(y_train, y_pred_train)\n",
    "r2_test = r2_score(y_test, y_pred_test)\n",
    "\n",
    "print(\"Training MSE:\", mse_train)\n",
    "print(\"Testing MSE:\", mse_test)\n",
    "print(\"Training R² Score:\", r2_train)\n",
    "print(\"Testing R² Score:\", r2_test)\n",
    "\n",
    "# Plot actual vs predicted exam scores\n",
    "plt.scatter(y_test, y_pred_test)\n",
    "plt.xlabel('Actual Exam Scores')\n",
    "plt.ylabel('Predicted Exam Scores')\n",
    "plt.title('Actual vs Predicted Exam Scores (Polynomial Regression)')\n",
    "plt.plot([min(y_test), max(y_test)], [min(y_test), max(y_test)], color='red')\n",
    "plt.show()"
   ]
  },
  {
   "cell_type": "code",
   "execution_count": 127,
   "id": "44dfe37d",
   "metadata": {},
   "outputs": [
    {
     "name": "stdout",
     "output_type": "stream",
     "text": [
      "   Hours_Studied  Attendance  Assignments_Completed  Gender  Pass\n",
      "0       3.745401    3.142919                      8  Female     0\n",
      "1       9.507143   63.641041                      4    Male     1\n",
      "2       7.319939   31.435598                      1  Female     0\n",
      "3       5.986585   50.857069                      8    Male     1\n",
      "4       1.560186   90.756647                      4  Female     1\n"
     ]
    }
   ],
   "source": [
    "#Create a Sample Dataset\n",
    "import numpy as np\n",
    "import pandas as pd\n",
    "\n",
    "# Generate a sample dataset\n",
    "np.random.seed(42)\n",
    "n_samples = 100\n",
    "\n",
    "data = {\n",
    "    'Hours_Studied': np.random.rand(n_samples) * 10,  # Hours studied per week (continuous)\n",
    "    'Attendance': np.random.rand(n_samples) * 100,    # Attendance percentage (continuous)\n",
    "    'Assignments_Completed': np.random.randint(1, 10, n_samples),  # Number of assignments completed (continuous)\n",
    "    'Gender': np.random.choice(['Male', 'Female'], n_samples),  # Gender (categorical)\n",
    "}\n",
    "\n",
    "# Convert to DataFrame\n",
    "df = pd.DataFrame(data)\n",
    "\n",
    "# Create a binary target variable 'Pass' based on a combination of features\n",
    "df['Pass'] = (df['Hours_Studied'] + 0.2 * df['Attendance'] + 2 * df['Assignments_Completed'] + (df['Gender'] == 'Female') * 5 + np.random.randn(n_samples) * 2 > 30).astype(int)\n",
    "\n",
    "print(df.head())"
   ]
  },
  {
   "cell_type": "markdown",
   "id": "ff882dbb",
   "metadata": {},
   "source": [
    "# Support Vector Machine"
   ]
  },
  {
   "cell_type": "code",
   "execution_count": 128,
   "id": "63ba7c4f",
   "metadata": {},
   "outputs": [
    {
     "name": "stdout",
     "output_type": "stream",
     "text": [
      "Accuracy: 0.9\n",
      "Classification Report:\n",
      "              precision    recall  f1-score   support\n",
      "\n",
      "           0       1.00      0.86      0.92        14\n",
      "           1       0.75      1.00      0.86         6\n",
      "\n",
      "    accuracy                           0.90        20\n",
      "   macro avg       0.88      0.93      0.89        20\n",
      "weighted avg       0.93      0.90      0.90        20\n",
      "\n"
     ]
    }
   ],
   "source": [
    "from sklearn.svm import SVC\n",
    "from sklearn.preprocessing import LabelEncoder\n",
    "from sklearn.model_selection import train_test_split\n",
    "from sklearn.metrics import accuracy_score, classification_report\n",
    "\n",
    "# Encode categorical variable 'Gender' using LabelEncoder\n",
    "label_encoder = LabelEncoder()\n",
    "df['Gender'] = label_encoder.fit_transform(df['Gender'])\n",
    "\n",
    "# Split the data into features and target variable\n",
    "X = df[['Hours_Studied', 'Attendance', 'Assignments_Completed', 'Gender']]\n",
    "y = df['Pass']\n",
    "\n",
    "# Split the data into training and testing sets\n",
    "X_train, X_test, y_train, y_test = train_test_split(X, y, test_size=0.2, random_state=42)\n",
    "\n",
    "# Initialize and fit the SVM classifier\n",
    "svm_classifier = SVC(kernel='linear')  # Linear kernel\n",
    "svm_classifier.fit(X_train, y_train)\n",
    "\n",
    "# Make predictions\n",
    "y_pred = svm_classifier.predict(X_test)\n",
    "\n",
    "# Evaluate the model\n",
    "accuracy = accuracy_score(y_test, y_pred)\n",
    "print(\"Accuracy:\", accuracy)\n",
    "\n",
    "# Classification report\n",
    "print(\"Classification Report:\")\n",
    "print(classification_report(y_test, y_pred))\n"
   ]
  },
  {
   "cell_type": "markdown",
   "id": "cce6ccf9",
   "metadata": {},
   "source": [
    "# Naive Bayes"
   ]
  },
  {
   "cell_type": "code",
   "execution_count": 129,
   "id": "052ec149",
   "metadata": {},
   "outputs": [
    {
     "name": "stdout",
     "output_type": "stream",
     "text": [
      "Accuracy: 0.85\n",
      "Classification Report:\n",
      "              precision    recall  f1-score   support\n",
      "\n",
      "           0       0.82      1.00      0.90        14\n",
      "           1       1.00      0.50      0.67         6\n",
      "\n",
      "    accuracy                           0.85        20\n",
      "   macro avg       0.91      0.75      0.78        20\n",
      "weighted avg       0.88      0.85      0.83        20\n",
      "\n"
     ]
    }
   ],
   "source": [
    "from sklearn.naive_bayes import GaussianNB\n",
    "from sklearn.preprocessing import LabelEncoder\n",
    "from sklearn.model_selection import train_test_split\n",
    "from sklearn.metrics import accuracy_score, classification_report\n",
    "\n",
    "# Encode categorical variable 'Gender' using LabelEncoder\n",
    "label_encoder = LabelEncoder()\n",
    "df['Gender'] = label_encoder.fit_transform(df['Gender'])\n",
    "\n",
    "# Split the data into features and target variable\n",
    "X = df[['Hours_Studied', 'Attendance', 'Assignments_Completed', 'Gender']]\n",
    "y = df['Pass']\n",
    "\n",
    "# Split the data into training and testing sets\n",
    "X_train, X_test, y_train, y_test = train_test_split(X, y, test_size=0.2, random_state=42)\n",
    "\n",
    "# Initialize and fit the Naive Bayes classifier (Gaussian Naive Bayes)\n",
    "naive_bayes_classifier = GaussianNB()\n",
    "naive_bayes_classifier.fit(X_train, y_train)\n",
    "\n",
    "# Make predictions\n",
    "y_pred = naive_bayes_classifier.predict(X_test)\n",
    "\n",
    "# Evaluate the model\n",
    "accuracy = accuracy_score(y_test, y_pred)\n",
    "print(\"Accuracy:\", accuracy)\n",
    "\n",
    "# Classification report\n",
    "print(\"Classification Report:\")\n",
    "print(classification_report(y_test, y_pred))\n"
   ]
  },
  {
   "cell_type": "markdown",
   "id": "94f20c0b",
   "metadata": {},
   "source": [
    "# Evaluation Metrices for Regression"
   ]
  },
  {
   "cell_type": "code",
   "execution_count": 130,
   "id": "477f0717",
   "metadata": {},
   "outputs": [
    {
     "name": "stdout",
     "output_type": "stream",
     "text": [
      "Mean Absolute Error (MAE): 2.0\n",
      "Mean Squared Error (MSE): 4.0\n",
      "Root Mean Squared Error (RMSE): 2.0\n",
      "R² Score: 0.98\n"
     ]
    }
   ],
   "source": [
    "from sklearn.metrics import mean_absolute_error, mean_squared_error, r2_score\n",
    "import numpy as np\n",
    "\n",
    "# Actual and predicted values\n",
    "actual_values = [10, 20, 30, 40, 50]\n",
    "predicted_values = [12, 18, 32, 38, 48]\n",
    "\n",
    "# Convert lists to numpy arrays for compatibility with scikit-learn functions\n",
    "actual_values = np.array(actual_values)\n",
    "predicted_values = np.array(predicted_values)\n",
    "\n",
    "# Calculate Mean Absolute Error (MAE)\n",
    "mae = mean_absolute_error(actual_values, predicted_values)\n",
    "print(\"Mean Absolute Error (MAE):\", mae)\n",
    "\n",
    "# Calculate Mean Squared Error (MSE)\n",
    "mse = mean_squared_error(actual_values, predicted_values)\n",
    "print(\"Mean Squared Error (MSE):\", mse)\n",
    "\n",
    "# Calculate Root Mean Squared Error (RMSE)\n",
    "rmse = np.sqrt(mse)\n",
    "print(\"Root Mean Squared Error (RMSE):\", rmse)\n",
    "\n",
    "# Calculate R² Score\n",
    "r2 = r2_score(actual_values, predicted_values)\n",
    "print(\"R² Score:\", r2)\n"
   ]
  },
  {
   "cell_type": "markdown",
   "id": "1ece7dc9",
   "metadata": {},
   "source": [
    "# Evaluation Metrices for Classification"
   ]
  },
  {
   "cell_type": "code",
   "execution_count": 133,
   "id": "730febd1",
   "metadata": {},
   "outputs": [
    {
     "name": "stdout",
     "output_type": "stream",
     "text": [
      "Accuracy: 0.6\n",
      "Precision: 0.6666666666666666\n",
      "Recall: 0.6666666666666666\n",
      "F1 Score: 0.6666666666666666\n",
      "Confusion Matrix:\n",
      "[[2 2]\n",
      " [2 4]]\n"
     ]
    }
   ],
   "source": [
    "from sklearn.metrics import accuracy_score, precision_score, recall_score, f1_score, confusion_matrix\n",
    "import numpy as np\n",
    "\n",
    "# Actual and predicted labels\n",
    "actual_labels = [1, 0, 1, 1, 0, 1, 0, 1, 0, 1]\n",
    "predicted_labels = [1, 1, 1, 1, 0, 0, 0, 1, 1, 0]\n",
    "\n",
    "# Convert lists to numpy arrays for compatibility with scikit-learn functions\n",
    "actual_labels = np.array(actual_labels)\n",
    "predicted_labels = np.array(predicted_labels)\n",
    "\n",
    "# Calculate Accuracy\n",
    "accuracy = accuracy_score(actual_labels, predicted_labels)\n",
    "print(\"Accuracy:\", accuracy)\n",
    "\n",
    "# Calculate Precision\n",
    "precision = precision_score(actual_labels, predicted_labels)\n",
    "print(\"Precision:\", precision)\n",
    "\n",
    "# Calculate Recall\n",
    "recall = recall_score(actual_labels, predicted_labels)\n",
    "print(\"Recall:\", recall)\n",
    "\n",
    "# Calculate F1 Score\n",
    "f1 = f1_score(actual_labels, predicted_labels)\n",
    "print(\"F1 Score:\", f1)\n",
    "\n",
    "# Calculate Confusion Matrix\n",
    "conf_matrix = confusion_matrix(actual_labels, predicted_labels)\n",
    "print(\"Confusion Matrix:\")\n",
    "print(conf_matrix)\n"
   ]
  },
  {
   "cell_type": "code",
   "execution_count": null,
   "id": "b4473ae6",
   "metadata": {},
   "outputs": [],
   "source": []
  }
 ],
 "metadata": {
  "kernelspec": {
   "display_name": "Python 3",
   "language": "python",
   "name": "python3"
  },
  "language_info": {
   "codemirror_mode": {
    "name": "ipython",
    "version": 3
   },
   "file_extension": ".py",
   "mimetype": "text/x-python",
   "name": "python",
   "nbconvert_exporter": "python",
   "pygments_lexer": "ipython3",
   "version": "3.8.8"
  }
 },
 "nbformat": 4,
 "nbformat_minor": 5
}
